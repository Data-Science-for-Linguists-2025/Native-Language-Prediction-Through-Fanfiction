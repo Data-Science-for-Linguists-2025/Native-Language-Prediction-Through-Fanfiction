{
 "cells": [
  {
   "cell_type": "code",
   "execution_count": 2,
   "metadata": {},
   "outputs": [],
   "source": [
    "import re\n",
    "import os\n",
    "import nltk\n",
    "import pickle\n",
    "import itertools\n",
    "import pandas as pd"
   ]
  },
  {
   "cell_type": "markdown",
   "metadata": {},
   "source": [
    "# file prep\n",
    "1. open pickled dataframe as `fics_df`  \n",
    "2. open dictionary of english language (source: [english dictionary](https://github.com/dwyl/english-words/blob/master/words.zip))  \n",
    "3. split dictionary into list as `en_dict`"
   ]
  },
  {
   "cell_type": "code",
   "execution_count": 3,
   "metadata": {},
   "outputs": [],
   "source": [
    "fics_df = pickle.load(open('fics_df.pkl', 'rb'))\n",
    "en_dict_txt = open('../words/words.txt').read()\n",
    "en_dict = en_dict_txt.split(\"\\n\")"
   ]
  },
  {
   "cell_type": "markdown",
   "metadata": {},
   "source": [
    "4. create list of all tags used to tag works  \n",
    "5. flatten list  \n",
    "6. create flattened token list from flattened list"
   ]
  },
  {
   "cell_type": "code",
   "execution_count": 4,
   "metadata": {},
   "outputs": [],
   "source": [
    "list_of_lists = [[tag for tag in ser] for ser in fics_df['tags']]\n",
    "tags = list(itertools.chain.from_iterable(list_of_lists))\n",
    "tags_toks = set(list(itertools.chain.from_iterable([nltk.word_tokenize(tag) for tag in tags])))"
   ]
  },
  {
   "cell_type": "markdown",
   "metadata": {},
   "source": [
    "7. create list of lowercase tag tokens  \n",
    "8. clear up most non-words  "
   ]
  },
  {
   "cell_type": "code",
   "execution_count": 5,
   "metadata": {},
   "outputs": [],
   "source": [
    "all_words = [x.lower() for x in tags_toks]\n",
    "all_words = set(nltk.word_tokenize(re.sub(r'[,.!@#$%^&*()_\\-+=\\{}\\[\\]:;\\'?/\\\\\\`~\"™0-9|]', ' ', str(all_words))))"
   ]
  },
  {
   "cell_type": "code",
   "execution_count": 11,
   "metadata": {},
   "outputs": [],
   "source": [
    "pickle.dump(all_words, open('word_list.pkl', 'wb'))"
   ]
  },
  {
   "cell_type": "markdown",
   "metadata": {},
   "source": [
    "# defining function: word_acc(list)\n",
    "1. collect count of set of words in English dictionary OR in tags  \n",
    "    this ensures that character names, etc. are counted as words. not 100% fool-proof, but corrects much of the data  \n",
    "2. collect count of words NOT counted above  \n",
    "    this is for debugging purposes (checking that all words are accounted for, etc.)  \n",
    "    unfortunately this includes conjunctions---I plan on coming back to fix this in the future\n",
    "3. return ratio of words used that are actual words and those that are not  \n"
   ]
  },
  {
   "cell_type": "code",
   "execution_count": 6,
   "metadata": {},
   "outputs": [],
   "source": [
    "def word_acc(list):\n",
    "    i = 0\n",
    "    j = 0\n",
    "    for w in set(list):\n",
    "        if w.lower() in en_dict:\n",
    "            i = i + 1\n",
    "        else:\n",
    "            if w.lower() in all_words:\n",
    "                i = i + 1\n",
    "            else:\n",
    "                j = j + 1\n",
    "    return i/len(set(list))"
   ]
  },
  {
   "cell_type": "markdown",
   "metadata": {},
   "source": [
    "# df updates\n",
    "1. adding the is-the-word-actually-a-word accuracy ratio (`word_acc(list)`)  "
   ]
  },
  {
   "cell_type": "code",
   "execution_count": null,
   "metadata": {},
   "outputs": [],
   "source": [
    "# fics_df['acc_ratio'] = fics_df.toks.map(lambda x: word_acc(x))\n",
    "\n",
    "## COMMENTED OUT BECAUSE IT TAKES 25 MINUTES TO RUN, PICKLED IN NEXT STEP."
   ]
  },
  {
   "cell_type": "code",
   "execution_count": null,
   "metadata": {},
   "outputs": [],
   "source": [
    "# pickle.dump(fics_df, open('fics_df.pkl', 'wb'))"
   ]
  }
 ],
 "metadata": {
  "kernelspec": {
   "display_name": "base",
   "language": "python",
   "name": "python3"
  },
  "language_info": {
   "codemirror_mode": {
    "name": "ipython",
    "version": 3
   },
   "file_extension": ".py",
   "mimetype": "text/x-python",
   "name": "python",
   "nbconvert_exporter": "python",
   "pygments_lexer": "ipython3",
   "version": "3.12.9"
  }
 },
 "nbformat": 4,
 "nbformat_minor": 2
}
