{
 "cells": [
  {
   "cell_type": "code",
   "execution_count": 1,
   "metadata": {},
   "outputs": [],
   "source": [
    "import re\n",
    "from bs4 import BeautifulSoup as beau\n",
    "import pandas as pd\n",
    "import os"
   ]
  },
  {
   "cell_type": "code",
   "execution_count": 5,
   "metadata": {},
   "outputs": [],
   "source": [
    "directory = 'natfinder'\n",
    "fics_df = pd.DataFrame(columns=['lang', 'author', 'title', 'file', 'tags', 'summary', 'notes', 'endnotes', 'work'])\n",
    "langs = ['french', 'spanish', 'mexican', 'brazilian', 'portugeuse', 'russian', 'ukranian', 'bengali', 'italian', 'czech', 'japanese', 'korean', 'chinese', 'swedish', 'german', 'finnish', 'turkish', 'greek', 'hindi']"
   ]
  },
  {
   "cell_type": "code",
   "execution_count": 10,
   "metadata": {},
   "outputs": [],
   "source": [
    "def extract_info(soup, f):\n",
    "    try:\n",
    "        author = soup.find(rel='author').text\n",
    "    except:\n",
    "        author = 'NaN'\n",
    "    try:\n",
    "        title = soup.find(class_='title heading').text\n",
    "    except:\n",
    "        title = 'NaN'\n",
    "    try:\n",
    "        tags = [t.text for t in soup.find_all(class_='tag')]\n",
    "    except:\n",
    "        tags = 'NaN'\n",
    "    try:\n",
    "        summary = soup.find('div', class_='summary module').text\n",
    "    except:\n",
    "        summary = 'NaN'\n",
    "    try:\n",
    "        notes = soup.find('div', class_='notes module').text\n",
    "    except:\n",
    "        notes = 'NaN'\n",
    "    try:\n",
    "        endnotes = soup.find('div', class_='end notes module').text\n",
    "    except:\n",
    "        endnotes = 'NaN'\n",
    "    try:\n",
    "        work = [p.text for p in soup.div.find(role='article').find_all('p')]\n",
    "    except:\n",
    "        work = 'NaN'\n",
    "    try:\n",
    "        blockquotes = summary+notes+endnotes\n",
    "        for l1 in langs:\n",
    "            if l1 in blockquotes:\n",
    "                lang = l1\n",
    "            else:\n",
    "                lang = 'NaN'\n",
    "    except:\n",
    "        lang = 'NaN'\n",
    "    temp = pd.DataFrame({'lang':[lang], 'author':[author], 'title':[title], 'file':[f], 'tags':[tags], 'summary':[summary], 'notes':[notes], 'endnotes':[endnotes], 'work':[work]})\n",
    "    return temp"
   ]
  },
  {
   "cell_type": "code",
   "execution_count": 12,
   "metadata": {},
   "outputs": [
    {
     "name": "stdout",
     "output_type": "stream",
     "text": [
      "<class 'pandas.core.frame.DataFrame'>\n",
      "RangeIndex: 485 entries, 0 to 484\n",
      "Data columns (total 9 columns):\n",
      " #   Column    Non-Null Count  Dtype \n",
      "---  ------    --------------  ----- \n",
      " 0   lang      485 non-null    object\n",
      " 1   author    485 non-null    object\n",
      " 2   title     485 non-null    object\n",
      " 3   file      485 non-null    object\n",
      " 4   tags      485 non-null    object\n",
      " 5   summary   485 non-null    object\n",
      " 6   notes     485 non-null    object\n",
      " 7   endnotes  485 non-null    object\n",
      " 8   work      485 non-null    object\n",
      "dtypes: object(9)\n",
      "memory usage: 34.2+ KB\n"
     ]
    }
   ],
   "source": [
    "files = []\n",
    "for f in os.scandir(directory):\n",
    "    if f.name.startswith('work'):\n",
    "        files.append(f.name)\n",
    "for f in files:\n",
    "    soup = beau(open('natfinder/' + f).read(), 'html.parser')\n",
    "    fics_df = pd.concat([fics_df, extract_info(soup, f)], ignore_index=True)\n",
    "fics_df.info()"
   ]
  }
 ],
 "metadata": {
  "kernelspec": {
   "display_name": "base",
   "language": "python",
   "name": "python3"
  },
  "language_info": {
   "codemirror_mode": {
    "name": "ipython",
    "version": 3
   },
   "file_extension": ".py",
   "mimetype": "text/x-python",
   "name": "python",
   "nbconvert_exporter": "python",
   "pygments_lexer": "ipython3",
   "version": "3.12.9"
  }
 },
 "nbformat": 4,
 "nbformat_minor": 2
}
