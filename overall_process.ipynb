{
 "cells": [
  {
   "cell_type": "markdown",
   "metadata": {},
   "source": [
    "# Native Language Prediction Through Fanfiction"
   ]
  },
  {
   "cell_type": "markdown",
   "metadata": {},
   "source": [
    "## Gathering Data"
   ]
  },
  {
   "cell_type": "markdown",
   "metadata": {},
   "source": [
    "### Finding and Collecting Data  \n",
    "1. Create list of languages\n",
    "2. Generate links to start search on AO3\n",
    "3. Create Scrapy Spider\n",
    "4. Crawl (and de-bug...)"
   ]
  },
  {
   "cell_type": "markdown",
   "metadata": {},
   "source": [
    "### Cleaning Up Data Files\n",
    "5. Download/Import Beautiful Soup\n",
    "6. Create [File to Clean Manual Data](file_cleaner-1.ipynb)\n",
    "    - manual data does not require the same data parsing because I already know the authors' native languages\n",
    "    - having a separate file for it saves memory when cleaning up files and prevents loss of L1 data when parsing scraped files"
   ]
  },
  {
   "cell_type": "markdown",
   "metadata": {},
   "source": [
    "### Determining Which Data to Keep\n",
    "7. Create [File to Clean Scraped Data](file_cleaner-2.ipynb)\n",
    "    - much of the file is the same as (2)\n",
    "    - it has additional steps to \"vet\" files to ensure that they are written by non-native speakers\n",
    "        (as opposed to a character within a fic being a non-native speaker)\n",
    "        - this will be done by checking whether the mention of a given language is in the tags, notes, or summary"
   ]
  },
  {
   "cell_type": "markdown",
   "metadata": {},
   "source": [
    "### Creating New Data Columns\n",
    "8. Join Together DFs\n",
    "9. Calculate/Create/Gather:\n",
    "    - tokens\n",
    "    - word count\n",
    "    - sentence count\n",
    "    - average length of words\n",
    "    - K-band data\n",
    "    - n-grams\n",
    "    - freqdist\n",
    "    - condfreqdist"
   ]
  },
  {
   "cell_type": "markdown",
   "metadata": {},
   "source": [
    "### Using SpaCy and Stanza\n",
    "10. Investigate How Data is Processed With SpaCy and Stanza as Well as Its Accuracy/Detail\n",
    "    - choose Stanza because it is SpaCy but Better :)\n",
    "11. Utilize Stanza\n",
    "    - create n-grams from POS data\n",
    "    - create freqdist from POS data\n",
    "    - compare lemma K-band & token K-band"
   ]
  },
  {
   "cell_type": "markdown",
   "metadata": {},
   "source": [
    "## Creating Classifiers"
   ]
  },
  {
   "cell_type": "markdown",
   "metadata": {},
   "source": [
    "### Using N-Grams"
   ]
  },
  {
   "cell_type": "markdown",
   "metadata": {},
   "source": [
    "### Using K-Nearest Neighbors"
   ]
  },
  {
   "cell_type": "markdown",
   "metadata": {},
   "source": [
    "### Using K-Means on Ambiguous Data"
   ]
  },
  {
   "cell_type": "markdown",
   "metadata": {},
   "source": [
    "## Analysis"
   ]
  },
  {
   "cell_type": "markdown",
   "metadata": {},
   "source": [
    "### Summary Statistics"
   ]
  },
  {
   "cell_type": "markdown",
   "metadata": {},
   "source": [
    "### MatPlotLib & Seaborn"
   ]
  }
 ],
 "metadata": {
  "language_info": {
   "name": "python"
  }
 },
 "nbformat": 4,
 "nbformat_minor": 2
}
